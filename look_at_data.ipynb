{
 "cells": [
  {
   "cell_type": "code",
   "execution_count": null,
   "metadata": {},
   "outputs": [],
   "source": [
    "import matplotlib.pyplot as plt\n",
    "\n",
    "from astropy.table import Table\n",
    "\n",
    "%matplotlib notebook"
   ]
  },
  {
   "cell_type": "code",
   "execution_count": null,
   "metadata": {},
   "outputs": [],
   "source": [
    "# Turn off interactive plotting by default.\n",
    "# Call plt.show() to display an interactive plot\n",
    "# Then if you want to create a new interactive plot, call\n",
    "#\n",
    "# plt.close()\n",
    "# <...new plotting commands...>\n",
    "# plt.show()\n",
    "#\n",
    "# This will result in the desired behavior that you can run the entire\n",
    "# notebook and generate each figure as an interactive figure.\n",
    "# Otherwise, if you just kept one figure interactive all plots would go to that figure.\n",
    "\n",
    "plt.ioff()"
   ]
  },
  {
   "cell_type": "code",
   "execution_count": null,
   "metadata": {},
   "outputs": [],
   "source": [
    "field = 'LSQ13cwp'\n",
    "# field = 'PTF11mty'"
   ]
  },
  {
   "cell_type": "code",
   "execution_count": null,
   "metadata": {},
   "outputs": [],
   "source": [
    "J_cat = Table.read('%s_%s_cat.fits' % (field, 'J'))\n",
    "H_cat = Table.read('%s_%s_cat.fits' % (field, 'H'))\n",
    "\n",
    "snr_threshold = 5\n",
    "good_color = (J_cat['J_SNR'] > snr_threshold) & (H_cat['H_SNR'] > snr_threshold)\n",
    "\n",
    "J_cat = J_cat[good_color]\n",
    "H_cat = H_cat[good_color]"
   ]
  },
  {
   "cell_type": "code",
   "execution_count": null,
   "metadata": {},
   "outputs": [],
   "source": [
    "plt.scatter(J_cat['J_mag']-H_cat['H_mag'], J_cat['J_mag'])\n",
    "plt.xlabel('J-H [AB mag]')\n",
    "plt.ylabel('J [AB mag]')\n",
    "plt.ylim(24, 13)\n",
    "plt.show()"
   ]
  },
  {
   "cell_type": "code",
   "execution_count": null,
   "metadata": {},
   "outputs": [],
   "source": [
    "plt.close()\n",
    "plt.scatter(J_cat['J_mag'], H_cat['H_mag'])\n",
    "plt.xlabel('J [AB mag]')\n",
    "plt.ylabel('H [AB mag]')\n",
    "plt.show()"
   ]
  },
  {
   "cell_type": "code",
   "execution_count": null,
   "metadata": {
    "scrolled": false
   },
   "outputs": [],
   "source": [
    "plt.close()\n",
    "plt.scatter(H_cat['H_mag'], H_cat['H_mag_err'], label='H', color='green')\n",
    "plt.scatter(J_cat['J_mag'], J_cat['J_mag_err'], label='J', color='blue')\n",
    "plt.xlabel('AB mag')\n",
    "plt.ylabel('mag uncertainty')\n",
    "plt.legend()\n",
    "plt.show()"
   ]
  },
  {
   "cell_type": "code",
   "execution_count": null,
   "metadata": {},
   "outputs": [],
   "source": [
    "def make_ds9_region_file(cat, out_file='ra_dec.reg'):\n",
    "    header = \"\"\"# coord_ra, coord_dec\n",
    "global point=circle\n",
    "fk5\n",
    "\"\"\"\n",
    "    lines = [header]\n",
    "    for row in cat:\n",
    "        line = \"point({ra:0.8f}, {dec:0.8f})\\n\".format(\n",
    "            ra=np.rad2deg(row['coord_ra']), dec=np.rad2deg(row['coord_dec']))\n",
    "        lines.append(line) \n",
    "    \n",
    "    with open(out_file, mode='w') as out:\n",
    "        out.writelines(lines)"
   ]
  },
  {
   "cell_type": "code",
   "execution_count": null,
   "metadata": {},
   "outputs": [],
   "source": [
    "make_ds9_region_file(H_cat)"
   ]
  },
  {
   "cell_type": "code",
   "execution_count": null,
   "metadata": {},
   "outputs": [],
   "source": []
  }
 ],
 "metadata": {
  "kernelspec": {
   "display_name": "Python 3",
   "language": "python",
   "name": "python3"
  },
  "language_info": {
   "codemirror_mode": {
    "name": "ipython",
    "version": 3
   },
   "file_extension": ".py",
   "mimetype": "text/x-python",
   "name": "python",
   "nbconvert_exporter": "python",
   "pygments_lexer": "ipython3",
   "version": "3.6.3"
  }
 },
 "nbformat": 4,
 "nbformat_minor": 2
}
