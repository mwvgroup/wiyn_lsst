{
 "cells": [
  {
   "cell_type": "code",
   "execution_count": null,
   "metadata": {},
   "outputs": [],
   "source": [
    "import matplotlib.pyplot as plt\n",
    "\n",
    "from astropy.table import Table\n",
    "\n",
    "%matplotlib notebook"
   ]
  },
  {
   "cell_type": "code",
   "execution_count": null,
   "metadata": {},
   "outputs": [],
   "source": [
    "# Turn off interactive plotting by default.\n",
    "# Call plt.show() to display an interactive plot\n",
    "# Then if you want to create a new interactive plot, call\n",
    "#\n",
    "# plt.close()\n",
    "# <...new plotting commands...>\n",
    "# plt.show()\n",
    "#\n",
    "# This will result in the desired behavior that you can run the entire\n",
    "# notebook and generate each figure as an interactive figure.\n",
    "# Otherwise, if you just kept one figure interactive all plots would go to that figure.\n",
    "\n",
    "plt.ioff()"
   ]
  },
  {
   "cell_type": "code",
   "execution_count": null,
   "metadata": {},
   "outputs": [],
   "source": [
    "field = 'LSQ13cwp'\n",
    "# field = 'PTF11mty'"
   ]
  },
  {
   "cell_type": "code",
   "execution_count": null,
   "metadata": {},
   "outputs": [],
   "source": [
    "J_cat = Table.read('%s_%s_cat.fits' % (field, 'J'))\n",
    "H_cat = Table.read('%s_%s_cat.fits' % (field, 'H'))\n",
    "ref_table = Table.read('%s_ref_table.fits' % field)\n",
    "\n",
    "snr_threshold = 5\n",
    "good_color = (J_cat['J_SNR'] > snr_threshold) & (H_cat['H_SNR'] > snr_threshold)\n",
    "\n",
    "J_cat = J_cat[good_color]\n",
    "H_cat = H_cat[good_color]\n",
    "ref_table = ref_table[good_color]"
   ]
  },
  {
   "cell_type": "code",
   "execution_count": null,
   "metadata": {},
   "outputs": [],
   "source": [
    "def make_ds9_region_file(cat, galaxies, out_file='ra_dec.reg'):\n",
    "    header = \"\"\"# coord_ra, coord_dec\n",
    "global point=circle\n",
    "fk5\n",
    "\"\"\"\n",
    "    lines = [header]\n",
    "    for row, gal in zip(cat, galaxies):\n",
    "        line = \"point({ra:0.8f}, {dec:0.8f})\".format(\n",
    "            ra=np.rad2deg(row['coord_ra']), dec=np.rad2deg(row['coord_dec']))\n",
    "        if gal:\n",
    "            line += \" # point=box\"\n",
    "            \n",
    "        line += \"\\n\"\n",
    "        lines.append(line) \n",
    "    \n",
    "    with open(out_file, mode='w') as out:\n",
    "        out.writelines(lines)"
   ]
  },
  {
   "cell_type": "code",
   "execution_count": null,
   "metadata": {},
   "outputs": [],
   "source": [
    "extendedName = \"base_ClassificationExtendedness_value\""
   ]
  },
  {
   "cell_type": "code",
   "execution_count": null,
   "metadata": {
    "scrolled": false
   },
   "outputs": [],
   "source": [
    "plt.hist(ref_table[extendedName], bins=np.linspace(-0.05, 1.05, 12), range=(-0.5, 1.5))\n",
    "plt.xlabel('ClassificationExtendness')\n",
    "plt.show()"
   ]
  },
  {
   "cell_type": "code",
   "execution_count": null,
   "metadata": {},
   "outputs": [],
   "source": [
    "extendedness_threshold = 0.95  # [2018-04-04]  It's actually currently just 0 or 1.\n",
    "stars = ref_table[extendedName] > extendedness_threshold\n",
    "gal = ref_table[extendedName] < extendedness_threshold\n",
    "# There are also NaNs"
   ]
  },
  {
   "cell_type": "code",
   "execution_count": null,
   "metadata": {},
   "outputs": [],
   "source": [
    "make_ds9_region_file(H_cat, gal)"
   ]
  },
  {
   "cell_type": "code",
   "execution_count": null,
   "metadata": {
    "scrolled": false
   },
   "outputs": [],
   "source": [
    "cat = H_cat\n",
    "plt.scatter(cat[stars][\"slot_PsfShape_xx\"], cat[stars][\"slot_PsfShape_yy\"], label='Stars')\n",
    "plt.scatter(cat[gal][\"slot_PsfShape_xx\"], cat[gal][\"slot_PsfShape_yy\"], label='Galaxies')\n",
    "plt.xlabel('PsfShape xx')\n",
    "plt.ylabel('PsfShape yy')\n",
    "plt.plot([0, 25], [0, 25], linestyle='--', color='grey')\n",
    "plt.xlim(0, 25)\n",
    "plt.ylim(0, 20)\n",
    "plt.legend()\n",
    "\n",
    "plt.show()"
   ]
  },
  {
   "cell_type": "code",
   "execution_count": null,
   "metadata": {},
   "outputs": [],
   "source": [
    "plt.scatter(J_cat[stars]['J_mag']-H_cat[stars]['H_mag'], J_cat[stars]['J_mag'], label='Stars')\n",
    "plt.scatter(J_cat[gal]['J_mag']-H_cat[gal]['H_mag'], J_cat[gal]['J_mag'], marker='+', label='Galaxies')\n",
    "plt.xlabel('J-H [AB mag]')\n",
    "plt.ylabel('J [AB mag]')\n",
    "plt.ylim(24, 13)\n",
    "plt.legend()\n",
    "plt.show()"
   ]
  },
  {
   "cell_type": "code",
   "execution_count": null,
   "metadata": {
    "scrolled": false
   },
   "outputs": [],
   "source": [
    "plt.close()\n",
    "plt.scatter(J_cat[stars]['J_mag'], H_cat[stars]['H_mag'], label='Stars')\n",
    "plt.scatter(J_cat[gal]['J_mag'], H_cat[gal]['H_mag'], marker='+', label='Galaxies')\n",
    "plt.xlabel('J [AB mag]')\n",
    "plt.ylabel('H [AB mag]')\n",
    "plt.legend()\n",
    "plt.show()"
   ]
  },
  {
   "cell_type": "code",
   "execution_count": null,
   "metadata": {
    "scrolled": false
   },
   "outputs": [],
   "source": [
    "plt.close()\n",
    "plt.scatter(J_cat[stars]['J_mag'], J_cat[stars]['J_mag_err'], label='J stars', color='blue')\n",
    "plt.scatter(J_cat[gal]['J_mag'], J_cat[gal]['J_mag_err'], label='J galaxies', marker='+', color='blue')\n",
    "plt.scatter(H_cat[stars]['H_mag'], H_cat[stars]['H_mag_err'], label='H stars', color='green')\n",
    "plt.scatter(H_cat[gal]['H_mag'], H_cat[gal]['H_mag_err'], label='H galaxies', marker='+', color='green')\n",
    "\n",
    "plt.xlabel('AB mag')\n",
    "plt.ylabel('mag uncertainty')\n",
    "plt.legend()\n",
    "plt.show()"
   ]
  },
  {
   "cell_type": "code",
   "execution_count": null,
   "metadata": {},
   "outputs": [],
   "source": []
  }
 ],
 "metadata": {
  "kernelspec": {
   "display_name": "Python 3",
   "language": "python",
   "name": "python3"
  },
  "language_info": {
   "codemirror_mode": {
    "name": "ipython",
    "version": 3
   },
   "file_extension": ".py",
   "mimetype": "text/x-python",
   "name": "python",
   "nbconvert_exporter": "python",
   "pygments_lexer": "ipython3",
   "version": "3.6.3"
  }
 },
 "nbformat": 4,
 "nbformat_minor": 2
}
