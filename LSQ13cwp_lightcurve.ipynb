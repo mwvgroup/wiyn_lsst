{
 "cells": [
  {
   "cell_type": "code",
   "execution_count": null,
   "metadata": {},
   "outputs": [],
   "source": [
    "import os\n",
    "\n",
    "import matplotlib.pyplot as plt\n",
    "\n",
    "from astropy.table import Table\n",
    "\n",
    "%matplotlib notebook"
   ]
  },
  {
   "cell_type": "code",
   "execution_count": null,
   "metadata": {},
   "outputs": [],
   "source": [
    "import lsst.afw.display as afwDisplay\n",
    "import lsst.afw.geom as afwGeom\n",
    "from lsst.daf.persistence import Butler"
   ]
  },
  {
   "cell_type": "code",
   "execution_count": null,
   "metadata": {},
   "outputs": [],
   "source": [
    "from deepcoadd_afw_to_astropy import read_cats"
   ]
  },
  {
   "cell_type": "code",
   "execution_count": null,
   "metadata": {},
   "outputs": [],
   "source": [
    "repo = os.path.join(os.getenv('DR1BASE'), 'repo', 'test_dr1')\n",
    "rerun = os.path.join(repo, 'rerun', 'forcedPhot')\n",
    "\n",
    "field, tract = 'LSQ13cwp', 0\n",
    "# field = 'PTF11mty'"
   ]
  },
  {
   "cell_type": "code",
   "execution_count": null,
   "metadata": {},
   "outputs": [],
   "source": [
    "J_cat, H_cat, ref_table = read_cats(field, tract=0, repo=rerun)\n",
    "\n",
    "snr_threshold = 5\n",
    "good_color = (J_cat['J_SNR'] > snr_threshold) & (H_cat['H_SNR'] > snr_threshold)\n",
    "\n",
    "J_cat = J_cat[good_color]\n",
    "H_cat = H_cat[good_color]\n",
    "ref_table = ref_table[good_color]"
   ]
  },
  {
   "cell_type": "code",
   "execution_count": null,
   "metadata": {},
   "outputs": [],
   "source": [
    "butler = Butler(rerun)\n",
    "\n",
    "dId = {'field': field, 'filter': 'H', 'tract': 0, 'patch': '0,0'}\n",
    "calexp = butler.get('deepCoadd', dataId=dId)"
   ]
  },
  {
   "cell_type": "code",
   "execution_count": null,
   "metadata": {},
   "outputs": [],
   "source": [
    "display = afwDisplay.getDisplay(backend='ds9')"
   ]
  },
  {
   "cell_type": "code",
   "execution_count": null,
   "metadata": {},
   "outputs": [],
   "source": [
    "display.mtv(calexp)"
   ]
  },
  {
   "cell_type": "code",
   "execution_count": null,
   "metadata": {},
   "outputs": [],
   "source": [
    "display.setMaskTransparency(80)\n",
    "display.scale(\"asinh\", -2, 25)"
   ]
  },
  {
   "cell_type": "code",
   "execution_count": null,
   "metadata": {},
   "outputs": [],
   "source": [
    "print([name for name in H_cat.colnames if name[:4] == 'slot'])\n",
    "X = 'slot_Centroid_x'\n",
    "Y = 'slot_Centroid_y'"
   ]
  },
  {
   "cell_type": "code",
   "execution_count": null,
   "metadata": {},
   "outputs": [],
   "source": [
    "display.erase()"
   ]
  },
  {
   "cell_type": "code",
   "execution_count": null,
   "metadata": {},
   "outputs": [],
   "source": [
    "with display.Buffering():\n",
    "    for s in ref_table:\n",
    "        display.dot(\"o\", s[X], s[Y], size=10, ctype='orange')"
   ]
  },
  {
   "cell_type": "markdown",
   "metadata": {},
   "source": [
    "Find LSQ13cwp based on RA, Dec: 04:03:50.662  -02:39:18.57 (J2000)"
   ]
  },
  {
   "cell_type": "code",
   "execution_count": null,
   "metadata": {},
   "outputs": [],
   "source": [
    "LSQ13cwp_RA_str, LSQ13cwp_Dec_str = '04:03:50.662', '-02:39:18.57'\n",
    "LSQ13cwp_RA, LSQ13cwp_Dec = 60.961092, -2.655158\n",
    "\n",
    "sn_coord = afwGeom.SpherePoint(LSQ13cwp_RA, LSQ13cwp_Dec, afwGeom.degrees)\n",
    "\n",
    "distList = []\n",
    "for s in ref_table:\n",
    "    this_coord = afwGeom.SpherePoint(s['coord_ra'], s['coord_dec'], afwGeom.radians)\n",
    "    angSep = sn_coord.separation(this_coord)\n",
    "    distList.append(angSep)\n",
    "    \n",
    "distance = np.array(distList)\n",
    "sn_idx = np.argmin(distance)\n",
    "\n",
    "print(\"Found match: Object %d at %f arcsecs\" % (sn_idx, afwGeom.radToArcsec(distance[sn_idx])))"
   ]
  },
  {
   "cell_type": "code",
   "execution_count": null,
   "metadata": {},
   "outputs": [],
   "source": [
    "sn_ref = ref_table[sn_idx]\n",
    "display.dot(\"o\", sn_ref[X], sn_ref[Y], size=20, ctype='green')"
   ]
  },
  {
   "cell_type": "markdown",
   "metadata": {},
   "source": [
    "Read in the forced-src photometry files that were built off of this same reference table to extract a lightcurve for LSQ13cwp"
   ]
  },
  {
   "cell_type": "code",
   "execution_count": null,
   "metadata": {},
   "outputs": [],
   "source": [
    "cat_dataRefs = butler.subset(datasetType='forced_src', dataId=dId)"
   ]
  },
  {
   "cell_type": "code",
   "execution_count": null,
   "metadata": {
    "scrolled": true
   },
   "outputs": [],
   "source": [
    "dId = [dr.dataId for dr in cat_dataRefs][0]"
   ]
  },
  {
   "cell_type": "code",
   "execution_count": null,
   "metadata": {},
   "outputs": [],
   "source": [
    "def extract_sn_from_dataRef(dr, idx):\n",
    "    cat = dr.get().asAstropy()\n",
    "    return cat[idx]"
   ]
  },
  {
   "cell_type": "code",
   "execution_count": null,
   "metadata": {},
   "outputs": [],
   "source": [
    "for dr in cat_dataRefs:\n",
    "    print(dr)\n",
    "    sn_this_cat = extract_sn_from_dataRef(dr, idx=sn_idx)"
   ]
  },
  {
   "cell_type": "code",
   "execution_count": null,
   "metadata": {},
   "outputs": [],
   "source": [
    "test_dId = {'field': 'LSQ13cwp', 'filter': 'H', 'tract': 0, 'patch': '0,0', 'seq': 'A', 'night': 20131111, 'expnum': 521}\n",
    "butler.get(datasetType='forced_src', dataId=test_dId)"
   ]
  },
  {
   "cell_type": "code",
   "execution_count": null,
   "metadata": {},
   "outputs": [],
   "source": [
    "dId"
   ]
  },
  {
   "cell_type": "code",
   "execution_count": null,
   "metadata": {},
   "outputs": [],
   "source": [
    "cat = butler.get(datasetType='forced_src', dataId=dId)"
   ]
  },
  {
   "cell_type": "code",
   "execution_count": null,
   "metadata": {
    "scrolled": false
   },
   "outputs": [],
   "source": [
    "dir(cat)"
   ]
  },
  {
   "cell_type": "code",
   "execution_count": null,
   "metadata": {},
   "outputs": [],
   "source": [
    "help(cat.extract)"
   ]
  },
  {
   "cell_type": "code",
   "execution_count": null,
   "metadata": {},
   "outputs": [],
   "source": []
  }
 ],
 "metadata": {
  "kernelspec": {
   "display_name": "Python 3",
   "language": "python",
   "name": "python3"
  },
  "language_info": {
   "codemirror_mode": {
    "name": "ipython",
    "version": 3
   },
   "file_extension": ".py",
   "mimetype": "text/x-python",
   "name": "python",
   "nbconvert_exporter": "python",
   "pygments_lexer": "ipython3",
   "version": "3.6.5"
  }
 },
 "nbformat": 4,
 "nbformat_minor": 2
}
