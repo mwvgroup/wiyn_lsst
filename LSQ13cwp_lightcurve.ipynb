{
 "cells": [
  {
   "cell_type": "code",
   "execution_count": null,
   "metadata": {},
   "outputs": [],
   "source": [
    "import os\n",
    "\n",
    "import matplotlib.pyplot as plt\n",
    "\n",
    "from astropy.table import Table\n",
    "\n",
    "%matplotlib notebook"
   ]
  },
  {
   "cell_type": "code",
   "execution_count": null,
   "metadata": {},
   "outputs": [],
   "source": [
    "import lsst.afw.display as afwDisplay\n",
    "import lsst.afw.geom as afwGeom\n",
    "from lsst.daf.persistence import Butler"
   ]
  },
  {
   "cell_type": "code",
   "execution_count": null,
   "metadata": {},
   "outputs": [],
   "source": [
    "from deepcoadd_afw_to_astropy import read_cats\n",
    "\n",
    "from wiyn_forcedPhotExternalCatalog import assemble_catalogs_into_lightcurve"
   ]
  },
  {
   "cell_type": "code",
   "execution_count": null,
   "metadata": {},
   "outputs": [],
   "source": [
    "repo = os.path.join(os.getenv('DR1BASE'), 'repo', 'test_dr1')\n",
    "rerun = os.path.join(repo, 'rerun', 'forcedPhot')\n",
    "\n",
    "field, tract = 'LSQ13cwp', 0\n",
    "# field = 'PTF11mty'"
   ]
  },
  {
   "cell_type": "code",
   "execution_count": null,
   "metadata": {},
   "outputs": [],
   "source": [
    "J_cat, H_cat, ref_table = read_cats(field, tract=0, repo=rerun)\n",
    "\n",
    "snr_threshold = 5\n",
    "good_color = (J_cat['J_SNR'] > snr_threshold) & (H_cat['H_SNR'] > snr_threshold)\n",
    "\n",
    "J_cat = J_cat[good_color]\n",
    "H_cat = H_cat[good_color]\n",
    "ref_table = ref_table[good_color]"
   ]
  },
  {
   "cell_type": "code",
   "execution_count": null,
   "metadata": {
    "scrolled": true
   },
   "outputs": [],
   "source": [
    "butler = Butler(rerun)\n",
    "\n",
    "dId = {'field': field, 'filter': 'H', 'tract': 0, 'patch': '0,0'}\n",
    "calexp = butler.get('deepCoadd', dataId=dId)"
   ]
  },
  {
   "cell_type": "markdown",
   "metadata": {},
   "source": [
    "Find LSQ13cwp based on RA, Dec: 04:03:50.662  -02:39:18.57 (J2000)"
   ]
  },
  {
   "cell_type": "code",
   "execution_count": null,
   "metadata": {},
   "outputs": [],
   "source": [
    "LSQ13cwp_RA_str, LSQ13cwp_Dec_str = '04:03:50.662', '-02:39:18.57'\n",
    "LSQ13cwp_RA, LSQ13cwp_Dec = 60.961092, -2.655158\n",
    "\n",
    "sn_coord = afwGeom.SpherePoint(LSQ13cwp_RA, LSQ13cwp_Dec, afwGeom.degrees)\n",
    "\n",
    "distList = []\n",
    "for s in ref_table:\n",
    "    this_coord = afwGeom.SpherePoint(s['coord_ra'], s['coord_dec'], afwGeom.radians)\n",
    "    angSep = sn_coord.separation(this_coord)\n",
    "    distList.append(angSep)\n",
    "    \n",
    "distance = np.array(distList)\n",
    "sn_idx = np.argmin(distance)\n",
    "\n",
    "print(\"Found match: Object %d at %f arcsecs\" % (sn_idx, afwGeom.radToArcsec(distance[sn_idx])))"
   ]
  },
  {
   "cell_type": "markdown",
   "metadata": {},
   "source": [
    "Read in the forced-src photometry files that were built off of this same reference table to extract a lightcurve for LSQ13cwp"
   ]
  },
  {
   "cell_type": "code",
   "execution_count": null,
   "metadata": {},
   "outputs": [],
   "source": [
    "# 2018-04-10:  MWV: This presently doesn't pull the correct expnums for each.\n",
    "cat_dataRefs = butler.subset(datasetType='forced_src', dataId=dId)"
   ]
  },
  {
   "cell_type": "code",
   "execution_count": null,
   "metadata": {
    "scrolled": true
   },
   "outputs": [],
   "source": [
    "import copy\n",
    "baseDataId = {'field': 'LSQ13cwp', 'seq': 'A'}\n",
    "dataIds = [{'field': 'LSQ13cwp', 'seq': 'A', 'filter': 'H', 'night': 20131111, 'expnum': 521},\n",
    "           {'field': 'LSQ13cwp', 'seq': 'A', 'filter': 'H', 'night': 20131213, 'expnum': 274},\n",
    "           {'field': 'LSQ13cwp', 'seq': 'A', 'filter': 'J', 'night': 20131111, 'expnum': 562},\n",
    "           {'field': 'LSQ13cwp', 'seq': 'A', 'filter': 'J', 'night': 20131120, 'expnum': 425},\n",
    "           {'field': 'LSQ13cwp', 'seq': 'A', 'filter': 'J', 'night': 20131209, 'expnum': 335},\n",
    "           {'field': 'LSQ13cwp', 'seq': 'A', 'filter': 'J', 'night': 20131213, 'expnum': 299},\n",
    "          ]\n",
    "\n",
    "tract = 0\n",
    "for dId in dataIds:\n",
    "    dId['tract'] = tract\n",
    "           "
   ]
  },
  {
   "cell_type": "code",
   "execution_count": null,
   "metadata": {
    "scrolled": true
   },
   "outputs": [],
   "source": [
    "dataIds_by_filter = {}\n",
    "dataIds_by_filter['H'] = [\n",
    "    {'field': 'LSQ13cwp', 'seq': 'A', 'filter': 'H', 'night': 20131111, 'expnum': 521},\n",
    "    {'field': 'LSQ13cwp', 'seq': 'A', 'filter': 'H', 'night': 20131213, 'expnum': 274}\n",
    "    ]\n",
    "dataIds_by_filter['J'] = [\n",
    "    {'field': 'LSQ13cwp', 'seq': 'A', 'filter': 'J', 'night': 20131111, 'expnum': 562},\n",
    "    {'field': 'LSQ13cwp', 'seq': 'A', 'filter': 'J', 'night': 20131120, 'expnum': 425},\n",
    "    {'field': 'LSQ13cwp', 'seq': 'A', 'filter': 'J', 'night': 20131209, 'expnum': 335},\n",
    "    {'field': 'LSQ13cwp', 'seq': 'A', 'filter': 'J', 'night': 20131213, 'expnum': 299},\n",
    "    ]\n",
    "\n",
    "lc = assemble_catalogs_into_lightcurve(dataIds_by_filter, rerun, dataset='forced_src')\n",
    "lc_file = '{:s}.ecsv'.format(field)\n",
    "lc.write(lc_file, overwrite=True)"
   ]
  },
  {
   "cell_type": "code",
   "execution_count": null,
   "metadata": {},
   "outputs": [],
   "source": [
    "lc.pprint(max_width=-1)"
   ]
  },
  {
   "cell_type": "code",
   "execution_count": null,
   "metadata": {},
   "outputs": [],
   "source": [
    "filters = ['J', 'H']\n",
    "colors = {'J': 'blue', 'H': 'green', 'KS': 'red'}\n",
    "for filt in filters:\n",
    "    wf, = np.where(lc['filter'] == filt)\n",
    "    lc_filt = lc[wf]\n",
    "    plt.errorbar(lc_filt['mjd'], lc_filt['base_PsfFlux_mag'], lc_filt['base_PsfFlux_magSigma'], label=filt,\n",
    "                marker='o', color=colors[filt], linestyle='none')\n",
    "    \n",
    "    \n",
    "ylim = plt.ylim()\n",
    "plt.ylim(ylim[::-1])\n",
    "\n",
    "plt.xlabel('MJD')\n",
    "plt.ylabel('mag')\n",
    "plt.legend()\n",
    "plt.show()"
   ]
  },
  {
   "cell_type": "code",
   "execution_count": null,
   "metadata": {},
   "outputs": [],
   "source": [
    "display = afwDisplay.getDisplay(backend='ds9')"
   ]
  },
  {
   "cell_type": "code",
   "execution_count": null,
   "metadata": {},
   "outputs": [],
   "source": [
    "display.mtv(calexp)"
   ]
  },
  {
   "cell_type": "code",
   "execution_count": null,
   "metadata": {},
   "outputs": [],
   "source": [
    "display.setMaskTransparency(80)\n",
    "display.scale(\"asinh\", -2, 25)"
   ]
  },
  {
   "cell_type": "code",
   "execution_count": null,
   "metadata": {},
   "outputs": [],
   "source": [
    "X = 'slot_Centroid_x'\n",
    "Y = 'slot_Centroid_y'"
   ]
  },
  {
   "cell_type": "code",
   "execution_count": null,
   "metadata": {},
   "outputs": [],
   "source": [
    "display.erase()"
   ]
  },
  {
   "cell_type": "code",
   "execution_count": null,
   "metadata": {},
   "outputs": [],
   "source": [
    "with display.Buffering():\n",
    "    for s in ref_table:\n",
    "        display.dot(\"o\", s[X], s[Y], size=10, ctype='orange')"
   ]
  },
  {
   "cell_type": "code",
   "execution_count": null,
   "metadata": {},
   "outputs": [],
   "source": [
    "sn_ref = ref_table[sn_idx]\n",
    "display.dot(\"o\", sn_ref[X], sn_ref[Y], size=20, ctype='green')"
   ]
  }
 ],
 "metadata": {
  "kernelspec": {
   "display_name": "Python 3",
   "language": "python",
   "name": "python3"
  },
  "language_info": {
   "codemirror_mode": {
    "name": "ipython",
    "version": 3
   },
   "file_extension": ".py",
   "mimetype": "text/x-python",
   "name": "python",
   "nbconvert_exporter": "python",
   "pygments_lexer": "ipython3",
   "version": "3.6.5"
  }
 },
 "nbformat": 4,
 "nbformat_minor": 2
}
